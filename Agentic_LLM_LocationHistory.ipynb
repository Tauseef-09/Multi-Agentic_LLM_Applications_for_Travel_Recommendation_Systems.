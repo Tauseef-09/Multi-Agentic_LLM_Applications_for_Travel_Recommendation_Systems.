{
  "nbformat": 4,
  "nbformat_minor": 0,
  "metadata": {
    "colab": {
      "provenance": []
    },
    "kernelspec": {
      "name": "python3",
      "display_name": "Python 3"
    },
    "language_info": {
      "name": "python"
    }
  },
  "cells": [
    {
      "cell_type": "code",
      "source": [
        "#!pip install langchain_community"
      ],
      "metadata": {
        "id": "CQRKP9onR_I7"
      },
      "execution_count": null,
      "outputs": []
    },
    {
      "cell_type": "code",
      "source": [
        "#!pip install langchain_openai"
      ],
      "metadata": {
        "id": "MTH_kLXeSMkh"
      },
      "execution_count": null,
      "outputs": []
    },
    {
      "cell_type": "code",
      "source": [
        "#!pip install wikipedia"
      ],
      "metadata": {
        "id": "udey550WSelK"
      },
      "execution_count": null,
      "outputs": []
    },
    {
      "cell_type": "code",
      "execution_count": null,
      "metadata": {
        "colab": {
          "base_uri": "https://localhost:8080/"
        },
        "id": "m-zlLoNoR5QO",
        "outputId": "1c5a2fa9-c39a-44ec-ef86-420971d6329e"
      },
      "outputs": [
        {
          "output_type": "stream",
          "name": "stdout",
          "text": [
            "Wikipedia Search Agent for destination location is ready.\n",
            "Enter destination location: texas\n",
            "\n",
            "\n",
            "\u001b[1m> Entering new AgentExecutor chain...\u001b[0m\n",
            "\u001b[32;1m\u001b[1;3m\n",
            "Invoking: `wikipedia_search` with `{'query': 'Texas'}`\n",
            "\n",
            "\n",
            "\u001b[0m\u001b[36;1m\u001b[1;3mPage: Texas\n",
            "Summary: Texas (  TEK-səss, locally also  TEK-siz; Spanish: Texas or Tejas, pronounced [ˈtexas]) is the most populous state in the South Central region of the United States. It borders Louisiana to the east, Arkansas to the northeast, Oklahoma to the north, New Mexico to the west, and an international border with the Mexican states of Chihuahua, Coahuila, Nuevo León, and Tamaulipas to the south and southwest. Texas has a coastline on the Gulf of Mexico to the southeast.\u001b[0m\u001b[32;1m\u001b[1;3mTexas is the most populous state in the South Central region of the United States. It borders Louisiana to the east, Arkansas to the northeast, Oklahoma to the north, New Mexico to the west, and has an international border with the Mexican states of Chihuahua, Coahuila, Nuevo León, and Tamaulipas to the south and southwest. Texas also has a coastline on the Gulf of Mexico to the southeast.\u001b[0m\n",
            "\n",
            "\u001b[1m> Finished chain.\u001b[0m\n",
            "{'input': 'texas', 'output': 'Texas is the most populous state in the South Central region of the United States. It borders Louisiana to the east, Arkansas to the northeast, Oklahoma to the north, New Mexico to the west, and has an international border with the Mexican states of Chihuahua, Coahuila, Nuevo León, and Tamaulipas to the south and southwest. Texas also has a coastline on the Gulf of Mexico to the southeast.'}\n"
          ]
        }
      ],
      "source": [
        "import requests\n",
        "from langchain_community.utilities import WikipediaAPIWrapper\n",
        "from langchain.pydantic_v1 import BaseModel, Field\n",
        "from langchain.tools import StructuredTool\n",
        "from langchain_openai import ChatOpenAI\n",
        "from langchain_core.prompts import ChatPromptTemplate\n",
        "from langchain.agents import create_tool_calling_agent, AgentExecutor\n",
        "\n",
        "# Initialize the Wikipedia API Wrapper\n",
        "api_wrapper = WikipediaAPIWrapper(top_k_results=1)\n",
        "\n",
        "# Define a function to call Wikipedia with limited output\n",
        "def wikipedia_caller(query: str) -> str:\n",
        "    \"\"\"This function queries Wikipedia and returns a condensed summary.\"\"\"\n",
        "    full_summary = api_wrapper.run(query)\n",
        "\n",
        "    # Extract the first few sentences to condense the response\n",
        "    important_sentences = \". \".join(full_summary.split(\". \")[:3]) + \".\"  # First 3 sentences\n",
        "\n",
        "    return important_sentences\n",
        "\n",
        "# Define input parameters for the Wikipedia tool\n",
        "class QueryInput(BaseModel):\n",
        "    query: str = Field(description=\"Input search query\")\n",
        "\n",
        "# Describe the tool's purpose\n",
        "description = (\n",
        "    \"A tool that searches Wikipedia. \"\n",
        "    \"Useful for answering general questions about people, places, companies, facts, historical events, or other subjects.\"\n",
        ")\n",
        "\n",
        "# Create a structured tool for Wikipedia search\n",
        "wiki_tool = StructuredTool.from_function(\n",
        "    func=wikipedia_caller,\n",
        "    name=\"wikipedia_search\",\n",
        "    description=description,\n",
        "    args_schema=QueryInput,\n",
        "    return_direct=False,\n",
        ")\n",
        "\n",
        "# Load the OpenAI API-based LLM\n",
        "llm = ChatOpenAI(model=\"gpt-3.5-turbo\", temperature=0, api_key=\"sk****A\")\n",
        "\n",
        "# Define the system prompt and conversation style\n",
        "template = \"\"\"You are a helpful assistant specialized in searching information about destination locations.\n",
        "{input}\n",
        "{agent_scratchpad}\"\"\"\n",
        "prompt = ChatPromptTemplate.from_template(template=template)\n",
        "\n",
        "# Load the Wikipedia tool and create the agent\n",
        "tools = [wiki_tool]\n",
        "agent = create_tool_calling_agent(llm=llm, tools=tools, prompt=prompt)\n",
        "agent_executor = AgentExecutor(agent=agent, tools=tools, verbose=True)\n",
        "\n",
        "print(\"Wikipedia Search Agent for destination location is ready.\")\n",
        "\n",
        "# Get input from the user and run the query\n",
        "question = input(\"Enter destination location: \")\n",
        "response = agent_executor.invoke({\"input\": question})\n",
        "print(f\"{response}\")"
      ]
    },
    {
      "cell_type": "code",
      "source": [],
      "metadata": {
        "id": "JTq3556uSIWJ"
      },
      "execution_count": null,
      "outputs": []
    }
  ]
}