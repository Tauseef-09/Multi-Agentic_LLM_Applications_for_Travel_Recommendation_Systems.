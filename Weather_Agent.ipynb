{
  "nbformat": 4,
  "nbformat_minor": 0,
  "metadata": {
    "colab": {
      "provenance": []
    },
    "kernelspec": {
      "name": "python3",
      "display_name": "Python 3"
    },
    "language_info": {
      "name": "python"
    }
  },
  "cells": [
    {
      "cell_type": "markdown",
      "source": [
        "---\n",
        "\n",
        "# **Weather LLM agent**\n",
        "\n",
        "---"
      ],
      "metadata": {
        "id": "2teBZq_TmrFq"
      }
    },
    {
      "cell_type": "code",
      "execution_count": 1,
      "metadata": {
        "id": "pU5QG9NUmkqt"
      },
      "outputs": [],
      "source": [
        "!pip install langchain langchain_community openai"
      ]
    },
    {
      "cell_type": "code",
      "source": [
        "\n",
        "import os\n",
        "import requests\n",
        "from langchain.chat_models import ChatOpenAI\n",
        "from langchain.agents import Tool, initialize_agent, AgentType\n",
        "from langchain.memory import ConversationBufferMemory\n",
        "import warnings\n",
        "warnings.filterwarnings(\"ignore\")\n",
        "\n",
        "# Set your API keys\n",
        "os.environ[\"OPENAI_API_KEY\"] = \"###########\"\n",
        "weather_api_key = \"#########\" # Replace with your weather API key\n",
        "\n",
        "# Function to fetch weather data from OpenWeatherMap\n",
        "def get_weather(city):\n",
        "    url = f\"http://api.openweathermap.org/data/2.5/weather?q={city}&appid={weather_api_key}&units=metric\"\n",
        "    response = requests.get(url).json()\n",
        "    if response.get(\"cod\") != 200:\n",
        "        return f\"Weather data not found for {city}.\"\n",
        "    weather = response[\"weather\"][0][\"description\"]\n",
        "    temp = response[\"main\"][\"temp\"]\n",
        "    return f\"The current weather in {city} is {weather} with a temperature of {temp}°C.\"\n",
        "\n",
        "# Define weather tool\n",
        "weather_tool = Tool(\n",
        "    name=\"weather\",\n",
        "    func=lambda city: get_weather(city),\n",
        "    description=\"Provides current weather information for a given city.\"\n",
        ")\n",
        "\n",
        "# Initialize the language model (OpenAI GPT-4 or GPT-3.5)\n",
        "llm = ChatOpenAI(model_name=\"gpt-3.5-turbo\")\n",
        "\n",
        "# Set up memory for personalized conversations\n",
        "memory = ConversationBufferMemory()\n",
        "\n",
        "# Initialize the agent with tools and memory\n",
        "agent = initialize_agent(\n",
        "    tools=[weather_tool],  # Add more tools if needed (e.g., flight, hotel, etc.)\n",
        "    llm=llm,\n",
        "    agent_type=AgentType.ZERO_SHOT_REACT_DESCRIPTION,\n",
        "    memory=memory,\n",
        "    verbose=True\n",
        ")\n",
        "\n",
        "# Example user interactions\n",
        "# 1. User asks for a sunny destination\n",
        "user_query = input(\"Enter destination location : \")\n",
        "response_1 = agent.run(user_query)\n",
        "print(response_1)\n"
      ],
      "metadata": {
        "id": "5OYr6hj9mn9D"
      },
      "execution_count": null,
      "outputs": []
    }
  ]
}