{
  "nbformat": 4,
  "nbformat_minor": 0,
  "metadata": {
    "colab": {
      "provenance": []
    },
    "kernelspec": {
      "name": "python3",
      "display_name": "Python 3"
    },
    "language_info": {
      "name": "python"
    }
  },
  "cells": [
    {
      "cell_type": "markdown",
      "source": [
        "---\n",
        "\n",
        "# **Top_5_Rated_Tourist_Places_Recommending_Agent**\n",
        "\n",
        "---"
      ],
      "metadata": {
        "id": "TmTl27laoMTG"
      }
    },
    {
      "cell_type": "code",
      "source": [
        "!pip install langchain langchain_community openai"
      ],
      "metadata": {
        "id": "4R_RR8fFoBZs"
      },
      "execution_count": null,
      "outputs": []
    },
    {
      "cell_type": "code",
      "execution_count": null,
      "metadata": {
        "id": "DZJiYElpnsEc"
      },
      "outputs": [],
      "source": [
        "\n",
        "import os\n",
        "import requests\n",
        "from langchain.chat_models import ChatOpenAI\n",
        "from langchain.agents import Tool, initialize_agent, AgentType\n",
        "from langchain.memory import ConversationBufferMemory\n",
        "from PIL import Image\n",
        "from io import BytesIO\n",
        "\n",
        "# Set your API keys\n",
        "os.environ[\"OPENAI_API_KEY\"] = \"##########\"\n",
        "google_maps_api_key = \"#########\"  # Replace with your Google Static Maps API key\n",
        "google_places_api_key = google_maps_api_key  # Using the same API key for both Places and Maps\n",
        "\n",
        "# Function to get latitude and longitude from location name using Google Geocoding API\n",
        "def get_lat_lng(location_name):\n",
        "    geocode_url = f\"https://maps.googleapis.com/maps/api/geocode/json?address={location_name}&key={google_maps_api_key}\"\n",
        "\n",
        "    # Make the request to the Google Geocoding API\n",
        "    response = requests.get(geocode_url)\n",
        "\n",
        "    if response.status_code == 200:\n",
        "        geo_data = response.json()\n",
        "        if geo_data['results']:\n",
        "            location = geo_data['results'][0]['geometry']['location']\n",
        "            lat_lng = f\"{location['lat']},{location['lng']}\"\n",
        "            return lat_lng\n",
        "        else:\n",
        "            return \"Location not found.\"\n",
        "    else:\n",
        "        return \"Error fetching location data.\"\n",
        "\n",
        "# Function to fetch nearby tourist places using Google Places API\n",
        "def get_tourist_places(location_name):\n",
        "    # Get the latitude and longitude from the location name\n",
        "    lat_lng = get_lat_lng(location_name)\n",
        "\n",
        "    if \"Error\" in lat_lng or \"Location not found\" in lat_lng:\n",
        "        return lat_lng\n",
        "\n",
        "    # Define the Google Places API URL for nearby search\n",
        "    url = f\"https://maps.googleapis.com/maps/api/place/nearbysearch/json\"\n",
        "\n",
        "    # Set the parameters for the nearby search\n",
        "    params = {\n",
        "        \"location\": lat_lng,  # Latitude and longitude of the location\n",
        "        \"radius\": 5000,        # Search radius in meters (5km)\n",
        "        \"type\": \"tourist_attraction\",  # We're interested in tourist attractions\n",
        "        \"key\": google_places_api_key   # Your Google Places API key\n",
        "    }\n",
        "\n",
        "    # Make the request to the Places API\n",
        "    response = requests.get(url, params=params)\n",
        "\n",
        "    if response.status_code == 200:\n",
        "        places = response.json().get('results', [])\n",
        "        # Format the results to return a readable list of tourist places\n",
        "        if places:\n",
        "            place_names = [f\"{place['name']} - Rating: {place.get('rating', 'N/A')}\" for place in places[:5]]\n",
        "            return \"\\n\".join(place_names)  # Return the top 5 tourist places\n",
        "        else:\n",
        "            return \"No tourist attractions found nearby.\"\n",
        "    else:\n",
        "        return f\"Could not retrieve tourist places for {location_name}. Please try another location.\"\n",
        "\n",
        "# Define the tourist places tool\n",
        "tourist_places_tool = Tool(\n",
        "    name=\"google_places\",\n",
        "    func=get_tourist_places,\n",
        "    description=\"Provides a list of nearby tourist places for a given location.\"\n",
        ")\n",
        "\n",
        "# Initialize the language model (OpenAI GPT-4 or GPT-3.5)\n",
        "llm = ChatOpenAI(model_name=\"gpt-3.5-turbo\")\n",
        "\n",
        "# Set up memory for personalized conversations\n",
        "memory = ConversationBufferMemory()\n",
        "\n",
        "# Create the agent using the latest LangChain methods\n",
        "agent = initialize_agent(\n",
        "    tools=[tourist_places_tool],  # Add tools for maps and tourist places\n",
        "    llm=llm,\n",
        "    agent_type=AgentType.ZERO_SHOT_REACT_DESCRIPTION,\n",
        "    memory=memory,\n",
        "    verbose=True,\n",
        "    handle_parsing_errors=True\n",
        ")\n",
        "\n",
        "# Example user interaction\n",
        "# User asks for nearby tourist places for a specific location\n",
        "#user_query = \"Paris\"  # You can change this to any location\n",
        "response_places = agent.run(user_query)\n",
        "print(response_places)\n"
      ]
    }
  ]
}