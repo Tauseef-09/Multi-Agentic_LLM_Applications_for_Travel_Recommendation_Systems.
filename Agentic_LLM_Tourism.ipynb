{
  "nbformat": 4,
  "nbformat_minor": 0,
  "metadata": {
    "colab": {
      "provenance": []
    },
    "kernelspec": {
      "name": "python3",
      "display_name": "Python 3"
    },
    "language_info": {
      "name": "python"
    }
  },
  "cells": [
    {
      "cell_type": "code",
      "execution_count": 1,
      "metadata": {
        "id": "EOLg9I8erB4f",
        "colab": {
          "base_uri": "https://localhost:8080/",
          "height": 384
        },
        "outputId": "27aa9e3b-6391-4e80-9353-91e1155824af"
      },
      "outputs": [
        {
          "output_type": "error",
          "ename": "ModuleNotFoundError",
          "evalue": "No module named 'langchain_community'",
          "traceback": [
            "\u001b[0;31m---------------------------------------------------------------------------\u001b[0m",
            "\u001b[0;31mModuleNotFoundError\u001b[0m                       Traceback (most recent call last)",
            "\u001b[0;32m<ipython-input-1-b02aa4b1430b>\u001b[0m in \u001b[0;36m<cell line: 0>\u001b[0;34m()\u001b[0m\n\u001b[1;32m      1\u001b[0m \u001b[0;32mimport\u001b[0m \u001b[0mos\u001b[0m\u001b[0;34m\u001b[0m\u001b[0;34m\u001b[0m\u001b[0m\n\u001b[1;32m      2\u001b[0m \u001b[0;32mimport\u001b[0m \u001b[0mrequests\u001b[0m\u001b[0;34m\u001b[0m\u001b[0;34m\u001b[0m\u001b[0m\n\u001b[0;32m----> 3\u001b[0;31m \u001b[0;32mfrom\u001b[0m \u001b[0mlangchain_community\u001b[0m\u001b[0;34m.\u001b[0m\u001b[0mutilities\u001b[0m \u001b[0;32mimport\u001b[0m \u001b[0mWikipediaAPIWrapper\u001b[0m\u001b[0;34m\u001b[0m\u001b[0;34m\u001b[0m\u001b[0m\n\u001b[0m\u001b[1;32m      4\u001b[0m \u001b[0;32mfrom\u001b[0m \u001b[0mlangchain\u001b[0m\u001b[0;34m.\u001b[0m\u001b[0mtools\u001b[0m \u001b[0;32mimport\u001b[0m \u001b[0mTool\u001b[0m\u001b[0;34m\u001b[0m\u001b[0;34m\u001b[0m\u001b[0m\n\u001b[1;32m      5\u001b[0m \u001b[0;32mfrom\u001b[0m \u001b[0mlangchain\u001b[0m\u001b[0;34m.\u001b[0m\u001b[0mchat_models\u001b[0m \u001b[0;32mimport\u001b[0m \u001b[0mChatOpenAI\u001b[0m\u001b[0;34m\u001b[0m\u001b[0;34m\u001b[0m\u001b[0m\n",
            "\u001b[0;31mModuleNotFoundError\u001b[0m: No module named 'langchain_community'",
            "",
            "\u001b[0;31m---------------------------------------------------------------------------\u001b[0;32m\nNOTE: If your import is failing due to a missing package, you can\nmanually install dependencies using either !pip or !apt.\n\nTo view examples of installing some common dependencies, click the\n\"Open Examples\" button below.\n\u001b[0;31m---------------------------------------------------------------------------\u001b[0m\n"
          ],
          "errorDetails": {
            "actions": [
              {
                "action": "open_url",
                "actionText": "Open Examples",
                "url": "/notebooks/snippets/importing_libraries.ipynb"
              }
            ]
          }
        }
      ],
      "source": [
        "import os\n",
        "import requests\n",
        "from langchain_community.utilities import WikipediaAPIWrapper\n",
        "from langchain.tools import Tool\n",
        "from langchain.chat_models import ChatOpenAI\n",
        "from langchain.agents import initialize_agent, AgentType\n",
        "from langchain.memory import ConversationBufferMemory\n",
        "import warnings\n",
        "warnings.filterwarnings(\"ignore\")\n",
        "\n",
        "os.environ[\"OPENAI_API_KEY\"] = \"sk****A\"  # Replace with your OpenAI API Key\n",
        "google_maps_api_key = \"A***U\"    # Replace with your Google Maps API Key\n",
        "\n",
        "# Initialize the Wikipedia API Wrapper for Wikipedia searches\n",
        "api_wrapper = WikipediaAPIWrapper(top_k_results=1)\n",
        "\n",
        "# Function to get latitude and longitude from location name using Google Geocoding API\n",
        "def get_lat_lng(location_name):\n",
        "    geocode_url = f\"https://maps.googleapis.com/maps/api/geocode/json?address={location_name}&key={google_maps_api_key}\"\n",
        "    response = requests.get(geocode_url)\n",
        "    if response.status_code == 200:\n",
        "        geo_data = response.json()\n",
        "        if geo_data['results']:\n",
        "            location = geo_data['results'][0]['geometry']['location']\n",
        "            lat_lng = f\"{location['lat']},{location['lng']}\"\n",
        "            return lat_lng\n",
        "        else:\n",
        "            return \"Location not found.\"\n",
        "    else:\n",
        "        return \"Error fetching location data.\"\n",
        "\n",
        "# Function to fetch nearby tourist places using Google Places API\n",
        "def get_tourist_places(location_name):\n",
        "    lat_lng = get_lat_lng(location_name)\n",
        "    if \"Error\" in lat_lng or \"Location not found\" in lat_lng:\n",
        "        return lat_lng\n",
        "\n",
        "    url = f\"https://maps.googleapis.com/maps/api/place/nearbysearch/json\"\n",
        "    params = {\n",
        "        \"location\": lat_lng,\n",
        "        \"radius\": 30000,        # Search radius in meters (5km)\n",
        "        \"type\": \"tourist_attraction\",\n",
        "        \"key\": google_maps_api_key\n",
        "    }\n",
        "\n",
        "    response = requests.get(url, params=params)\n",
        "    if response.status_code == 200:\n",
        "        places = response.json().get('results', [])\n",
        "        if places:\n",
        "            place_names = [place['name'] for place in places[:5]]\n",
        "            return place_names\n",
        "        else:\n",
        "            return \"No tourist attractions found nearby.\"\n",
        "    else:\n",
        "        return f\"Could not retrieve tourist places for {location_name}. Please try another location.\"\n",
        "\n",
        "# Function to fetch brief history or summary from Wikipedia for a tourist place\n",
        "def get_place_history(place_name):\n",
        "    wikipedia_url = f\"https://en.wikipedia.org/api/rest_v1/page/summary/{place_name.replace(' ', '_')}\"\n",
        "    response = requests.get(wikipedia_url)\n",
        "    if response.status_code == 200:\n",
        "        data = response.json()\n",
        "        return data.get(\"extract\", \"No history available.\")\n",
        "    else:\n",
        "        return f\"Could not retrieve history for {place_name}.\"\n",
        "\n",
        "# Tool to get nearby tourist places with history\n",
        "def get_places_with_history(location_name):\n",
        "    places = get_tourist_places(location_name)\n",
        "    if isinstance(places, str):  # Handle error messages from get_tourist_places\n",
        "        return places\n",
        "\n",
        "    formatted_places_with_history = []\n",
        "    for place in places:\n",
        "        history = get_place_history(place)\n",
        "        formatted_places_with_history.append(f\"{place}:\\n{history}\")\n",
        "\n",
        "    # Join all place information in a formatted output\n",
        "    return \"\\n\\n\".join(formatted_places_with_history)\n",
        "\n",
        "# Define the tool for getting tourist places with history\n",
        "tourist_places_with_history_tool = Tool(\n",
        "    name=\"tourist_places_with_history\",\n",
        "    func=get_places_with_history,\n",
        "    description=\"Provides a list of nearby tourist places along with a brief history for each place.\"\n",
        ")\n",
        "\n",
        "# Initialize the language model (OpenAI GPT-3.5 or GPT-4)\n",
        "llm = ChatOpenAI(model=\"gpt-3.5-turbo\")\n",
        "\n",
        "# Set up memory for personalized conversations\n",
        "memory = ConversationBufferMemory()\n",
        "\n",
        "# Create the agent using LangChain\n",
        "agent = initialize_agent(\n",
        "    tools=[tourist_places_with_history_tool],  # Add tool for places and history\n",
        "    llm=llm,\n",
        "    agent_type=AgentType.ZERO_SHOT_REACT_DESCRIPTION,\n",
        "    memory=memory,\n",
        "    verbose=True\n",
        ")\n",
        "\n",
        "# Ask the user for a location\n",
        "#user_query = input(\"Enter the location for which you'd like recommendations of tourist places with a brief history: \")\n",
        "user_query = input(\"Enter a city to receive recommendations for must-visit tourist places and a brief history for each recommended spot: \")\n",
        "\n",
        "# Fetch and print the tourist places with history for the selected location\n",
        "response_each_places_with_history = agent.run(user_query)\n",
        "print(f\"Tourist places in {user_query}:\\n{response_each_places_with_history}\")\n"
      ]
    },
    {
      "cell_type": "code",
      "source": [],
      "metadata": {
        "id": "HoVzKkF1d3-a"
      },
      "execution_count": null,
      "outputs": []
    }
  ]
}